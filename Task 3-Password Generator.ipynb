{
 "cells": [
  {
   "cell_type": "code",
   "execution_count": 2,
   "id": "b3407fe0",
   "metadata": {},
   "outputs": [
    {
     "name": "stdout",
     "output_type": "stream",
     "text": [
      "Password Generator\n",
      "Enter the desired password length: 8\n",
      "Generated Password: i8AAZD2[\n"
     ]
    }
   ],
   "source": [
    "import random\n",
    "import string\n",
    "\n",
    "def generate_password(length):\n",
    "    characters = string.ascii_letters + string.digits + string.punctuation\n",
    "    password = ''.join(random.choice(characters) for _ in range(length))\n",
    "    return password\n",
    "\n",
    "def main():\n",
    "    print(\"Password Generator\")\n",
    "    while True:\n",
    "        try:\n",
    "            length = int(input(\"Enter the desired password length: \"))\n",
    "            if length <= 0:\n",
    "                print(\"Password length should be greater than zero.\")\n",
    "            else:\n",
    "                password = generate_password(length)\n",
    "                print(f\"Generated Password: {password}\")\n",
    "                break\n",
    "        except ValueError:\n",
    "            print(\"Invalid input. Please enter a valid number.\")\n",
    "\n",
    "if __name__ == \"__main__\":\n",
    "    main()\n"
   ]
  },
  {
   "cell_type": "code",
   "execution_count": null,
   "id": "4622f407",
   "metadata": {},
   "outputs": [],
   "source": []
  },
  {
   "cell_type": "markdown",
   "id": "f33ba0ab",
   "metadata": {},
   "source": [
    "## Explanation"
   ]
  },
  {
   "cell_type": "markdown",
   "id": "9b2abd78",
   "metadata": {},
   "source": [
    "This code uses the random module to generate random characters from string.ascii_letters (lowercase and uppercase letters), string.digits (digits 0-9), and string.punctuation (special characters) to create a strong and random password. The user is prompted to specify the desired length of the password, and the generated password is then displayed on the screen."
   ]
  },
  {
   "cell_type": "code",
   "execution_count": null,
   "id": "bcc47a56",
   "metadata": {},
   "outputs": [],
   "source": []
  },
  {
   "cell_type": "code",
   "execution_count": null,
   "id": "830b5587",
   "metadata": {},
   "outputs": [],
   "source": []
  }
 ],
 "metadata": {
  "kernelspec": {
   "display_name": "Python 3 (ipykernel)",
   "language": "python",
   "name": "python3"
  },
  "language_info": {
   "codemirror_mode": {
    "name": "ipython",
    "version": 3
   },
   "file_extension": ".py",
   "mimetype": "text/x-python",
   "name": "python",
   "nbconvert_exporter": "python",
   "pygments_lexer": "ipython3",
   "version": "3.9.13"
  }
 },
 "nbformat": 4,
 "nbformat_minor": 5
}
