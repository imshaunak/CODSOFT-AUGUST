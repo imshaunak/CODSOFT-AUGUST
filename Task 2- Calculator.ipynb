{
 "cells": [
  {
   "cell_type": "code",
   "execution_count": 2,
   "id": "8929c745",
   "metadata": {},
   "outputs": [
    {
     "name": "stdout",
     "output_type": "stream",
     "text": [
      "Simple Calculator\n",
      "Operations:\n",
      "1. Addition\n",
      "2. Subtraction\n",
      "3. Multiplication\n",
      "4. Division\n",
      "Enter the first number: 65\n",
      "Enter the second number: 321\n",
      "Enter operation choice (1/2/3/4): 3\n",
      "Result: 20865.0\n"
     ]
    }
   ],
   "source": [
    "def add(a, b):\n",
    "    return a + b\n",
    "\n",
    "def subtract(a, b):\n",
    "    return a - b\n",
    "\n",
    "def multiply(a, b):\n",
    "    return a * b\n",
    "\n",
    "def divide(a, b):\n",
    "    if b != 0:\n",
    "        return a / b\n",
    "    else:\n",
    "        return \"Cannot divide by zero.\"\n",
    "\n",
    "def calculator():\n",
    "    print(\"Simple Calculator\")\n",
    "    print(\"Operations:\")\n",
    "    print(\"1. Addition\")\n",
    "    print(\"2. Subtraction\")\n",
    "    print(\"3. Multiplication\")\n",
    "    print(\"4. Division\")\n",
    "    \n",
    "    while True:\n",
    "        try:\n",
    "            num1 = float(input(\"Enter the first number: \"))\n",
    "            num2 = float(input(\"Enter the second number: \"))\n",
    "            choice = int(input(\"Enter operation choice (1/2/3/4): \"))\n",
    "            \n",
    "            if choice == 1:\n",
    "                result = add(num1, num2)\n",
    "            elif choice == 2:\n",
    "                result = subtract(num1, num2)\n",
    "            elif choice == 3:\n",
    "                result = multiply(num1, num2)\n",
    "            elif choice == 4:\n",
    "                result = divide(num1, num2)\n",
    "            else:\n",
    "                print(\"Invalid choice. Please enter a valid operation choice.\")\n",
    "                continue\n",
    "\n",
    "            print(f\"Result: {result}\")\n",
    "            break\n",
    "            \n",
    "        except ValueError:\n",
    "            print(\"Invalid input. Please enter valid numbers.\")\n",
    "\n",
    "if __name__ == \"__main__\":\n",
    "    calculator()\n"
   ]
  },
  {
   "cell_type": "code",
   "execution_count": null,
   "id": "828c8722",
   "metadata": {},
   "outputs": [],
   "source": []
  },
  {
   "cell_type": "code",
   "execution_count": null,
   "id": "f2feeb4c",
   "metadata": {},
   "outputs": [],
   "source": []
  },
  {
   "cell_type": "markdown",
   "id": "c6411878",
   "metadata": {},
   "source": [
    "## Explanation"
   ]
  },
  {
   "cell_type": "markdown",
   "id": "25574f7c",
   "metadata": {},
   "source": [
    "This code defines four basic arithmetic operations (addition, subtraction, multiplication, and division) as separate functions. The calculator function prompts the user for two numbers and the desired operation, performs the calculation, and displays the result. The program handles division by zero and invalid inputs gracefully. It will continue to prompt for inputs until a valid operation choice and valid numbers are entered."
   ]
  },
  {
   "cell_type": "code",
   "execution_count": null,
   "id": "75d65ca3",
   "metadata": {},
   "outputs": [],
   "source": []
  },
  {
   "cell_type": "code",
   "execution_count": null,
   "id": "fb9eff70",
   "metadata": {},
   "outputs": [],
   "source": []
  },
  {
   "cell_type": "code",
   "execution_count": null,
   "id": "95d3c9ab",
   "metadata": {},
   "outputs": [],
   "source": []
  }
 ],
 "metadata": {
  "kernelspec": {
   "display_name": "Python 3 (ipykernel)",
   "language": "python",
   "name": "python3"
  },
  "language_info": {
   "codemirror_mode": {
    "name": "ipython",
    "version": 3
   },
   "file_extension": ".py",
   "mimetype": "text/x-python",
   "name": "python",
   "nbconvert_exporter": "python",
   "pygments_lexer": "ipython3",
   "version": "3.9.13"
  }
 },
 "nbformat": 4,
 "nbformat_minor": 5
}
